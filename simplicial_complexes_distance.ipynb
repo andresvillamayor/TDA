{
  "nbformat": 4,
  "nbformat_minor": 0,
  "metadata": {
    "colab": {
      "name": "simplicial_complexes_distance.ipynb",
      "provenance": [],
      "collapsed_sections": [],
      "authorship_tag": "ABX9TyNuXTzitAcNJQFiPPu1HcW4",
      "include_colab_link": true
    },
    "kernelspec": {
      "name": "python3",
      "display_name": "Python 3"
    },
    "language_info": {
      "name": "python"
    }
  },
  "cells": [
    {
      "cell_type": "markdown",
      "metadata": {
        "id": "view-in-github",
        "colab_type": "text"
      },
      "source": [
        "<a href=\"https://colab.research.google.com/github/andresvillamayor/TDA/blob/master/simplicial_complexes_distance.ipynb\" target=\"_parent\"><img src=\"https://colab.research.google.com/assets/colab-badge.svg\" alt=\"Open In Colab\"/></a>"
      ]
    },
    {
      "cell_type": "code",
      "metadata": {
        "id": "mTuM4BUZqN1H"
      },
      "source": [
        "# andy \n",
        "# Simplicial complexex form distance matrice\n",
        "# from matrice CS ."
      ],
      "execution_count": null,
      "outputs": []
    },
    {
      "cell_type": "code",
      "metadata": {
        "id": "Y2k_WDXSqmvp"
      },
      "source": [
        "import pandas as pd\n",
        "import numpy as np\n",
        "import gudhi as gd\n",
        "from pylab import*\n",
        "from  google.colab import drive "
      ],
      "execution_count": 26,
      "outputs": []
    },
    {
      "cell_type": "code",
      "metadata": {
        "colab": {
          "base_uri": "https://localhost:8080/"
        },
        "id": "L3b6qQTkrLQG",
        "outputId": "be9343d4-c875-4a65-b072-d6a16a43ac6c"
      },
      "source": [
        "drive.mount(\"/content/drive\")\n",
        "#montar mi drive para los archivos "
      ],
      "execution_count": 21,
      "outputs": [
        {
          "output_type": "stream",
          "text": [
            "Drive already mounted at /content/drive; to attempt to forcibly remount, call drive.mount(\"/content/drive\", force_remount=True).\n"
          ],
          "name": "stdout"
        }
      ]
    },
    {
      "cell_type": "code",
      "metadata": {
        "id": "sd9TDxcEszMK"
      },
      "source": [
        "data = pd.read_csv(\"/content/drive/My Drive/data-tda/distancia_total.csv\", sep = \",\" , engine=\"python\")"
      ],
      "execution_count": 22,
      "outputs": []
    },
    {
      "cell_type": "code",
      "metadata": {
        "colab": {
          "base_uri": "https://localhost:8080/"
        },
        "id": "NzoGtsgM47rA",
        "outputId": "46f16431-53f7-40f6-dc12-44819c4a471c"
      },
      "source": [
        "data.head"
      ],
      "execution_count": 19,
      "outputs": [
        {
          "output_type": "execute_result",
          "data": {
            "text/plain": [
              "<bound method NDFrame.head of           0       1       2       3  ...     646     647     648     649\n",
              "0       0.0    13.0    24.0    35.0  ...  7108.0  7119.0  7130.0  7141.0\n",
              "1      13.0     0.0    13.0    24.0  ...  7097.0  7108.0  7119.0  7130.0\n",
              "2      24.0    13.0     0.0    13.0  ...  7086.0  7097.0  7108.0  7119.0\n",
              "3      35.0    24.0    13.0     0.0  ...  7075.0  7086.0  7097.0  7108.0\n",
              "4      46.0    35.0    24.0    13.0  ...  7064.0  7075.0  7086.0  7097.0\n",
              "..      ...     ...     ...     ...  ...     ...     ...     ...     ...\n",
              "645  7097.0  7086.0  7075.0  7064.0  ...    13.0    24.0    35.0    46.0\n",
              "646  7108.0  7097.0  7086.0  7075.0  ...     0.0    13.0    24.0    35.0\n",
              "647  7119.0  7108.0  7097.0  7086.0  ...    13.0     0.0    13.0    24.0\n",
              "648  7130.0  7119.0  7108.0  7097.0  ...    24.0    13.0     0.0    13.0\n",
              "649  7141.0  7130.0  7119.0  7108.0  ...    35.0    24.0    13.0     0.0\n",
              "\n",
              "[650 rows x 650 columns]>"
            ]
          },
          "metadata": {
            "tags": []
          },
          "execution_count": 19
        }
      ]
    },
    {
      "cell_type": "code",
      "metadata": {
        "id": "BR-ZRqHA5ikB"
      },
      "source": [
        "#correlacion de los datos de la matriz\n",
        "\n",
        "data_corr = (data.corr)\n"
      ],
      "execution_count": 28,
      "outputs": []
    },
    {
      "cell_type": "code",
      "metadata": {
        "colab": {
          "base_uri": "https://localhost:8080/",
          "height": 198
        },
        "id": "rLc3ybcSIM23",
        "outputId": "3e4f9cce-8c05-47d3-83cc-26e9d3731ce7"
      },
      "source": [
        "# Rips\n",
        "# Generar el esqueleto\n",
        "#El parámetro max_edge_length es el diámetro máximo\n",
        "skeleton_data = gd.RipsComplex( distance_matriz = data_corr.values,max_edge_leng=0.8)"
      ],
      "execution_count": 29,
      "outputs": [
        {
          "output_type": "error",
          "ename": "AttributeError",
          "evalue": "ignored",
          "traceback": [
            "\u001b[0;31m---------------------------------------------------------------------------\u001b[0m",
            "\u001b[0;31mAttributeError\u001b[0m                            Traceback (most recent call last)",
            "\u001b[0;32m<ipython-input-29-ac72e2475ff2>\u001b[0m in \u001b[0;36m<module>\u001b[0;34m()\u001b[0m\n\u001b[1;32m      2\u001b[0m \u001b[0;31m# Generar el esqueleto\u001b[0m\u001b[0;34m\u001b[0m\u001b[0;34m\u001b[0m\u001b[0;34m\u001b[0m\u001b[0m\n\u001b[1;32m      3\u001b[0m \u001b[0;31m#El parámetro max_edge_length es el diámetro máximo\u001b[0m\u001b[0;34m\u001b[0m\u001b[0;34m\u001b[0m\u001b[0;34m\u001b[0m\u001b[0m\n\u001b[0;32m----> 4\u001b[0;31m \u001b[0mskeleton_data\u001b[0m \u001b[0;34m=\u001b[0m \u001b[0mgd\u001b[0m\u001b[0;34m.\u001b[0m\u001b[0mRipsComplex\u001b[0m\u001b[0;34m(\u001b[0m \u001b[0mdistance_matriz\u001b[0m \u001b[0;34m=\u001b[0m \u001b[0mdata_corr\u001b[0m\u001b[0;34m.\u001b[0m\u001b[0mvalues\u001b[0m\u001b[0;34m,\u001b[0m\u001b[0mmax_edge_leng\u001b[0m\u001b[0;34m=\u001b[0m\u001b[0;36m0.8\u001b[0m\u001b[0;34m)\u001b[0m\u001b[0;34m\u001b[0m\u001b[0;34m\u001b[0m\u001b[0m\n\u001b[0m",
            "\u001b[0;31mAttributeError\u001b[0m: 'function' object has no attribute 'values'"
          ]
        }
      ]
    },
    {
      "cell_type": "code",
      "metadata": {
        "id": "5Ghd_8EZLKhy"
      },
      "source": [
        ""
      ],
      "execution_count": null,
      "outputs": []
    }
  ]
}
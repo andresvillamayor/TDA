{
  "nbformat": 4,
  "nbformat_minor": 0,
  "metadata": {
    "colab": {
      "name": "simplicial_complexes_from_distance.ipynb",
      "provenance": [],
      "authorship_tag": "ABX9TyNhrRB2Esjfl+v/EZ9Fpcuk",
      "include_colab_link": true
    },
    "kernelspec": {
      "name": "python3",
      "display_name": "Python 3"
    },
    "language_info": {
      "name": "python"
    }
  },
  "cells": [
    {
      "cell_type": "markdown",
      "metadata": {
        "id": "view-in-github",
        "colab_type": "text"
      },
      "source": [
        "<a href=\"https://colab.research.google.com/github/andresvillamayor/TDA/blob/master/simplicial_complexes_from_distance.ipynb\" target=\"_parent\"><img src=\"https://colab.research.google.com/assets/colab-badge.svg\" alt=\"Open In Colab\"/></a>"
      ]
    },
    {
      "cell_type": "markdown",
      "metadata": {
        "id": "GbSGtw993_Pi"
      },
      "source": [
        "**simplicial_complexes_from_distance**"
      ]
    },
    {
      "cell_type": "markdown",
      "metadata": {
        "id": "rnyxWGrc6rLF"
      },
      "source": [
        "Andres Villamayor - Asunción - Paraguay"
      ]
    },
    {
      "cell_type": "code",
      "metadata": {
        "colab": {
          "base_uri": "https://localhost:8080/"
        },
        "id": "acx2vMbz6x9-",
        "outputId": "643e8262-3036-49f2-bd48-9828da54906c"
      },
      "source": [
        "#pip install gudhi"
      ],
      "execution_count": 6,
      "outputs": [
        {
          "output_type": "stream",
          "text": [
            "Collecting gudhi\n",
            "  Downloading gudhi-3.4.1.post1-cp37-cp37m-manylinux2014_x86_64.whl (28.2 MB)\n",
            "\u001b[K     |████████████████████████████████| 28.2 MB 23 kB/s \n",
            "\u001b[?25hRequirement already satisfied: numpy>=1.9 in /usr/local/lib/python3.7/dist-packages (from gudhi) (1.19.5)\n",
            "Installing collected packages: gudhi\n",
            "Successfully installed gudhi-3.4.1.post1\n"
          ],
          "name": "stdout"
        }
      ]
    },
    {
      "cell_type": "code",
      "metadata": {
        "id": "Ad8XNN-46Dw0"
      },
      "source": [
        "import pandas as pd\n",
        "import numpy as np\n",
        "from pylab import*\n",
        "import gudhi as gd \n",
        "from  google.colab import drive"
      ],
      "execution_count": 4,
      "outputs": []
    },
    {
      "cell_type": "code",
      "metadata": {
        "colab": {
          "base_uri": "https://localhost:8080/"
        },
        "id": "ikwbplAt32tl",
        "outputId": "1bb9defd-d706-40af-add4-2113ebe261eb"
      },
      "source": [
        "drive.mount(\"/content/drive\")\n",
        "#montar mi drive para los archivos"
      ],
      "execution_count": 5,
      "outputs": [
        {
          "output_type": "stream",
          "text": [
            "Mounted at /content/drive\n"
          ],
          "name": "stdout"
        }
      ]
    }
  ]
}